{
 "cells": [
  {
   "cell_type": "code",
   "execution_count": 1,
   "id": "a05b3411",
   "metadata": {},
   "outputs": [],
   "source": [
    "import fitz\n",
    "\n",
    "def extract_text(pdf_path):\n",
    "    doc = fitz.open(pdf_path)\n",
    "    text = \"\"\n",
    "    \n",
    "    for word in doc:\n",
    "        text += word.get_text(\"text\") + \"\\n\"\n",
    "    \n",
    "    return text"
   ]
  },
  {
   "cell_type": "code",
   "execution_count": 33,
   "id": "ea85155e",
   "metadata": {},
   "outputs": [],
   "source": [
    "path = \"./data/testcase1.pdf\"\n",
    "extracted_text = extract_text(path)"
   ]
  },
  {
   "cell_type": "code",
   "execution_count": 34,
   "id": "d3ff5caf",
   "metadata": {},
   "outputs": [
    {
     "name": "stdout",
     "output_type": "stream",
     "text": [
      "Last week, our project coordinator John Smith confirmed the schedule. You can always email \n",
      "him at john.smith@example.com or call his mobile +1 (415) 555-2671 for clarifications. \n",
      "Meanwhile, Priya Verma from the design team shared her contact details — \n",
      "priya_verma123@mailservice.co.in and her Indian phone number 09876543210. \n",
      "The support department also published an update with their hotline at 020-7946-0958 and an \n",
      "email address support@acme-corp.com. \n",
      "In case of escalation, you may directly reach Emma O’Connor through \n",
      "emma.oconnor@personal-mail.org or at +44 20 7946 0958 ext. 402. \n",
      "Another contributor, Miguel-Alonso, prefers Gmail: m.alonso99+updates@gmail.com, and \n",
      "his backup phone number is (310)555-0199. \n",
      "Multiple stakeholders were also listed: Rachel Green (r.green@example.com), Ross Geller \n",
      "(ross.geller@paleontology.net), and Monica Baker (Monica.Baker@home.org) with their \n",
      "phones 555-1212, +1-212-555-0123, and +91 98765 43210. \n",
      "Some users entered obfuscated text like john [dot] doe @example [dot] com or \n",
      "jane(at)example(dot)org. \n",
      "Others typed numbers in tricky formats such as 123·456·7890 or 123 456 7890. \n",
      "For the startup contact, we noted Alex who can be reached at alex123@startup.io and his UK \n",
      "number 0044 7700 900123. \n",
      "Additionally, his India office number is +91-80-1234-5678. \n",
      "Celebrity mentor Samuel L. Jackson surprisingly listed his email as \n",
      "samuel.jackson@movienet.com and text line +1 650 555 4321. \n",
      "His assistant Lia Cheng may be reached at lia_cheng@assist.example or mobile \n",
      "6505554322. \n",
      "The event team shared Chen Wei’s details — chenwei@events.cn and phone +86 10 8888 \n",
      "9999, with a local alternative 01088889999. \n",
      "For the Spanish delegates, Dr. María-José Rivera prefers mariaj.riv@example.es, with her \n",
      "number listed as +34 91 123 45 67, and she also uses maria.r@work-mail.es. \n",
      "Technical consultant Daniel Kim included his contact: daniel.kim@techmail.kr and number \n",
      "+82-2-312-5678. \n",
      "From the finance side, Fatima Zahra published her email fatima.zahra@finance.ma and \n",
      "Moroccan contact +212 522 43 21 09. \n",
      "Our logistics officer Igor Petrov may be reached at igor.petrov@logistics.ru or on his line +7 \n",
      "(495) 123-4567. \n",
      "Regional partner Ahmed Hassan listed ahmed_hassan@bizmail.eg with his Cairo number \n",
      "+20 2 2794 5678. \n",
      "Legal consultant Sophia Müller is available on s.mueller@lawfirm.de and her Berlin office \n",
      "number +49 30 123456. \n",
      "Finally, the project secretary Olivia Brown shared a simple email olivia.brown@company.org \n",
      "and her extension 555-0102 for quick calls. \n",
      "\n",
      "\n"
     ]
    }
   ],
   "source": [
    "print(extracted_text)"
   ]
  },
  {
   "cell_type": "code",
   "execution_count": 35,
   "id": "2787fddd",
   "metadata": {},
   "outputs": [],
   "source": [
    "import re\n",
    "import spacy\n",
    "\n",
    "#Detects email address\n",
    "def detect_emails(text):\n",
    "    \n",
    "    email_pattern = r'[a-zA-Z0-9_.+-]+@[a-zA-Z0-9-]+\\.[a-zA-Z0-9-.]+'\n",
    "    detected_text = re.sub(email_pattern, ' [Email] ', text)\n",
    "    return detected_text"
   ]
  },
  {
   "cell_type": "code",
   "execution_count": 36,
   "id": "a387282e",
   "metadata": {},
   "outputs": [],
   "source": [
    "first = detect_emails(extracted_text)"
   ]
  },
  {
   "cell_type": "code",
   "execution_count": 37,
   "id": "f2e713e0",
   "metadata": {},
   "outputs": [
    {
     "name": "stdout",
     "output_type": "stream",
     "text": [
      "Last week, our project coordinator John Smith confirmed the schedule. You can always email \n",
      "him at  [Email]  or call his mobile +1 (415) 555-2671 for clarifications. \n",
      "Meanwhile, Priya Verma from the design team shared her contact details — \n",
      " [Email]  and her Indian phone number 09876543210. \n",
      "The support department also published an update with their hotline at 020-7946-0958 and an \n",
      "email address  [Email]  \n",
      "In case of escalation, you may directly reach Emma O’Connor through \n",
      " [Email]  or at +44 20 7946 0958 ext. 402. \n",
      "Another contributor, Miguel-Alonso, prefers Gmail:  [Email] , and \n",
      "his backup phone number is (310)555-0199. \n",
      "Multiple stakeholders were also listed: Rachel Green ( [Email] ), Ross Geller \n",
      "( [Email] ), and Monica Baker ( [Email] ) with their \n",
      "phones 555-1212, +1-212-555-0123, and +91 98765 43210. \n",
      "Some users entered obfuscated text like john [dot] doe @example [dot] com or \n",
      "jane(at)example(dot)org. \n",
      "Others typed numbers in tricky formats such as 123·456·7890 or 123 456 7890. \n",
      "For the startup contact, we noted Alex who can be reached at  [Email]  and his UK \n",
      "number 0044 7700 900123. \n",
      "Additionally, his India office number is +91-80-1234-5678. \n",
      "Celebrity mentor Samuel L. Jackson surprisingly listed his email as \n",
      " [Email]  and text line +1 650 555 4321. \n",
      "His assistant Lia Cheng may be reached at  [Email]  or mobile \n",
      "6505554322. \n",
      "The event team shared Chen Wei’s details —  [Email]  and phone +86 10 8888 \n",
      "9999, with a local alternative 01088889999. \n",
      "For the Spanish delegates, Dr. María-José Rivera prefers  [Email] , with her \n",
      "number listed as +34 91 123 45 67, and she also uses  [Email]  \n",
      "Technical consultant Daniel Kim included his contact:  [Email]  and number \n",
      "+82-2-312-5678. \n",
      "From the finance side, Fatima Zahra published her email  [Email]  and \n",
      "Moroccan contact +212 522 43 21 09. \n",
      "Our logistics officer Igor Petrov may be reached at  [Email]  or on his line +7 \n",
      "(495) 123-4567. \n",
      "Regional partner Ahmed Hassan listed  [Email]  with his Cairo number \n",
      "+20 2 2794 5678. \n",
      "Legal consultant Sophia Müller is available on  [Email]  and her Berlin office \n",
      "number +49 30 123456. \n",
      "Finally, the project secretary Olivia Brown shared a simple email  [Email]  \n",
      "and her extension 555-0102 for quick calls. \n",
      "\n",
      "\n"
     ]
    }
   ],
   "source": [
    "print(first)"
   ]
  },
  {
   "cell_type": "code",
   "execution_count": 38,
   "id": "f3fd867d",
   "metadata": {},
   "outputs": [],
   "source": [
    "def detect_numbers(text):\n",
    "    \n",
    "    phone_pattern = r'(\\+?\\d{1,3}[-.\\s]?)?(\\(?\\d{3}\\)?[-.\\s]?)?\\d{3}[-.\\s]?\\d{4}'\n",
    "    detected_text = re.sub(phone_pattern, '[PhoneNumber]', text)\n",
    "    return detected_text"
   ]
  },
  {
   "cell_type": "code",
   "execution_count": 39,
   "id": "51a75fb0",
   "metadata": {},
   "outputs": [
    {
     "name": "stdout",
     "output_type": "stream",
     "text": [
      "Last week, our project coordinator John Smith confirmed the schedule. You can always email \n",
      "him at john.smith@example.com or call his mobile [PhoneNumber] for clarifications. \n",
      "Meanwhile, Priya Verma from the design team shared her contact details — \n",
      "priya_verma123@mailservice.co.in and her Indian phone number [PhoneNumber]0. \n",
      "The support department also published an update with their hotline at [PhoneNumber]-0958 and an \n",
      "email address support@acme-corp.com. \n",
      "In case of escalation, you may directly reach Emma O’Connor through \n",
      "emma.oconnor@personal-mail.org or at +44 20 [PhoneNumber] ext. 402. \n",
      "Another contributor, Miguel-Alonso, prefers Gmail: m.alonso99+updates@gmail.com, and \n",
      "his backup phone number is [PhoneNumber]. \n",
      "Multiple stakeholders were also listed: Rachel Green (r.green@example.com), Ross Geller \n",
      "(ross.geller@paleontology.net), and Monica Baker (Monica.Baker@home.org) with their \n",
      "phones [PhoneNumber], [PhoneNumber], and +91 [PhoneNumber]0. \n",
      "Some users entered obfuscated text like john [dot] doe @example [dot] com or \n",
      "jane(at)example(dot)org. \n",
      "Others typed numbers in tricky formats such as 123·456·7890 or [PhoneNumber]. \n",
      "For the startup contact, we noted Alex who can be reached at alex123@startup.io and his UK \n",
      "number [PhoneNumber] 900123. \n",
      "Additionally, his India office number is +91-80-[PhoneNumber]. \n",
      "Celebrity mentor Samuel L. Jackson surprisingly listed his email as \n",
      "samuel.jackson@movienet.com and text line [PhoneNumber]. \n",
      "His assistant Lia Cheng may be reached at lia_cheng@assist.example or mobile \n",
      "[PhoneNumber]. \n",
      "The event team shared Chen Wei’s details — chenwei@events.cn and phone +86 10 8888 \n",
      "9999, with a local alternative [PhoneNumber]9. \n",
      "For the Spanish delegates, Dr. María-José Rivera prefers mariaj.riv@example.es, with her \n",
      "number listed as +34 91 123 45 67, and she also uses maria.r@work-mail.es. \n",
      "Technical consultant Daniel Kim included his contact: daniel.kim@techmail.kr and number \n",
      "+82-[PhoneNumber]. \n",
      "From the finance side, Fatima Zahra published her email fatima.zahra@finance.ma and \n",
      "Moroccan contact +212 522 43 21 09. \n",
      "Our logistics officer Igor Petrov may be reached at igor.petrov@logistics.ru or on his line +7 \n",
      "[PhoneNumber]. \n",
      "Regional partner Ahmed Hassan listed ahmed_hassan@bizmail.eg with his Cairo number \n",
      "+20 2 [PhoneNumber]. \n",
      "Legal consultant Sophia Müller is available on s.mueller@lawfirm.de and her Berlin office \n",
      "number +49 30 123456. \n",
      "Finally, the project secretary Olivia Brown shared a simple email olivia.brown@company.org \n",
      "and her extension [PhoneNumber] for quick calls. \n",
      "\n",
      "\n"
     ]
    }
   ],
   "source": [
    "second = detect_numbers(extracted_text)\n",
    "print(second)"
   ]
  },
  {
   "cell_type": "code",
   "execution_count": 40,
   "id": "21345818",
   "metadata": {},
   "outputs": [],
   "source": [
    "def detect_name(text):\n",
    "    \n",
    "    name_pattern = r'\\b[A-Z][a-z]+(?:\\s[A-Z][a-z]*|\\s[A-Z]{1,3})+\\b'\n",
    "    detected_name = re.sub(name_pattern,'[Name]', text)\n",
    "    return detected_name"
   ]
  },
  {
   "cell_type": "code",
   "execution_count": 41,
   "id": "a8836fb0",
   "metadata": {},
   "outputs": [
    {
     "name": "stdout",
     "output_type": "stream",
     "text": [
      "Last week, our project coordinator [Name] confirmed the schedule. You can always email \n",
      "him at john.smith@example.com or call his mobile +1 (415) 555-2671 for clarifications. \n",
      "Meanwhile, [Name] from the design team shared her contact details — \n",
      "priya_verma123@mailservice.co.in and her Indian phone number 09876543210. \n",
      "The support department also published an update with their hotline at 020-7946-0958 and an \n",
      "email address support@acme-corp.com. \n",
      "In case of escalation, you may directly reach [Name]’Connor through \n",
      "emma.oconnor@personal-mail.org or at +44 20 7946 0958 ext. 402. \n",
      "Another contributor, Miguel-Alonso, prefers Gmail: m.alonso99+updates@gmail.com, and \n",
      "his backup phone number is (310)555-0199. \n",
      "Multiple stakeholders were also listed: [Name] (r.green@example.com), [Name] \n",
      "(ross.geller@paleontology.net), and [Name] (Monica.Baker@home.org) with their \n",
      "phones 555-1212, +1-212-555-0123, and +91 98765 43210. \n",
      "Some users entered obfuscated text like john [dot] doe @example [dot] com or \n",
      "jane(at)example(dot)org. \n",
      "Others typed numbers in tricky formats such as 123·456·7890 or 123 456 7890. \n",
      "For the startup contact, we noted Alex who can be reached at alex123@startup.io and his UK \n",
      "number 0044 7700 900123. \n",
      "Additionally, his India office number is +91-80-1234-5678. \n",
      "Celebrity mentor [Name]. Jackson surprisingly listed his email as \n",
      "samuel.jackson@movienet.com and text line +1 650 555 4321. \n",
      "His assistant [Name] may be reached at lia_cheng@assist.example or mobile \n",
      "6505554322. \n",
      "The event team shared [Name]’s details — chenwei@events.cn and phone +86 10 8888 \n",
      "9999, with a local alternative 01088889999. \n",
      "For the Spanish delegates, Dr. María-José Rivera prefers mariaj.riv@example.es, with her \n",
      "number listed as +34 91 123 45 67, and she also uses maria.r@work-mail.es. \n",
      "Technical consultant [Name] included his contact: daniel.kim@techmail.kr and number \n",
      "+82-2-312-5678. \n",
      "From the finance side, [Name] published her email fatima.zahra@finance.ma and \n",
      "Moroccan contact +212 522 43 21 09. \n",
      "Our logistics officer [Name] may be reached at igor.petrov@logistics.ru or on his line +7 \n",
      "(495) 123-4567. \n",
      "Regional partner [Name] listed ahmed_hassan@bizmail.eg with his Cairo number \n",
      "+20 2 2794 5678. \n",
      "Legal consultant Sophia Müller is available on s.mueller@lawfirm.de and her Berlin office \n",
      "number +49 30 123456. \n",
      "Finally, the project secretary [Name] shared a simple email olivia.brown@company.org \n",
      "and her extension 555-0102 for quick calls. \n",
      "\n",
      "\n"
     ]
    }
   ],
   "source": [
    "third = detect_name(extracted_text)\n",
    "print(third)"
   ]
  },
  {
   "cell_type": "code",
   "execution_count": 42,
   "id": "029adac1",
   "metadata": {},
   "outputs": [],
   "source": [
    "final1 = detect_emails(extracted_text)\n",
    "final2 = detect_numbers(final1)\n",
    "final3 = detect_name(final2)\n",
    "\n"
   ]
  },
  {
   "cell_type": "code",
   "execution_count": 43,
   "id": "85005685",
   "metadata": {},
   "outputs": [
    {
     "name": "stdout",
     "output_type": "stream",
     "text": [
      "Last week, our project coordinator [Name] confirmed the schedule. You can always email \n",
      "him at  [Email]  or call his mobile [PhoneNumber] for clarifications. \n",
      "Meanwhile, [Name] from the design team shared her contact details — \n",
      " [Email]  and her Indian phone number [PhoneNumber]0. \n",
      "The support department also published an update with their hotline at [PhoneNumber]-0958 and an \n",
      "email address  [Email]  \n",
      "In case of escalation, you may directly reach [Name]’Connor through \n",
      " [Email]  or at +44 20 [PhoneNumber] ext. 402. \n",
      "Another contributor, Miguel-Alonso, prefers Gmail:  [Email] , and \n",
      "his backup phone number is [PhoneNumber]. \n",
      "Multiple stakeholders were also listed: [Name] ( [Email] ), [Name] \n",
      "( [Email] ), and [Name] ( [Email] ) with their \n",
      "phones [PhoneNumber], [PhoneNumber], and +91 [PhoneNumber]0. \n",
      "Some users entered obfuscated text like john [dot] doe @example [dot] com or \n",
      "jane(at)example(dot)org. \n",
      "Others typed numbers in tricky formats such as 123·456·7890 or [PhoneNumber]. \n",
      "For the startup contact, we noted Alex who can be reached at  [Email]  and his UK \n",
      "number [PhoneNumber] 900123. \n",
      "Additionally, his India office number is +91-80-[PhoneNumber]. \n",
      "Celebrity mentor [Name]. Jackson surprisingly listed his email as \n",
      " [Email]  and text line [PhoneNumber]. \n",
      "His assistant [Name] may be reached at  [Email]  or mobile \n",
      "[PhoneNumber]. \n",
      "The event team shared [Name]’s details —  [Email]  and phone +86 10 8888 \n",
      "9999, with a local alternative [PhoneNumber]9. \n",
      "For the Spanish delegates, Dr. María-José Rivera prefers  [Email] , with her \n",
      "number listed as +34 91 123 45 67, and she also uses  [Email]  \n",
      "Technical consultant [Name] included his contact:  [Email]  and number \n",
      "+82-[PhoneNumber]. \n",
      "From the finance side, [Name] published her email  [Email]  and \n",
      "Moroccan contact +212 522 43 21 09. \n",
      "Our logistics officer [Name] may be reached at  [Email]  or on his line +7 \n",
      "[PhoneNumber]. \n",
      "Regional partner [Name] listed  [Email]  with his Cairo number \n",
      "+20 2 [PhoneNumber]. \n",
      "Legal consultant Sophia Müller is available on  [Email]  and her Berlin office \n",
      "number +49 30 123456. \n",
      "Finally, the project secretary [Name] shared a simple email  [Email]  \n",
      "and her extension [PhoneNumber] for quick calls. \n",
      "\n",
      "\n"
     ]
    }
   ],
   "source": [
    "print(final3)"
   ]
  },
  {
   "cell_type": "code",
   "execution_count": null,
   "id": "b2101cea",
   "metadata": {},
   "outputs": [
    {
     "name": "stdout",
     "output_type": "stream",
     "text": [
      "PDF saved successfully as New.pdf\n"
     ]
    }
   ],
   "source": [
    "from fpdf import FPDF\n",
    "\n",
    "def textPdf(text, file):\n",
    "    pdf = FPDF()\n",
    "    pdf.add_page()\n",
    "    pdf.set_auto_page_break(auto=True, margin=15)\n",
    "\n",
    "    pdf.add_font(\"DejaVu\", \"\", \"DejaVuSans.ttf\")\n",
    "    pdf.set_font(\"DejaVu\", \"\", 12)\n",
    "\n",
    "    pdf.multi_cell(0, 10, text)\n",
    "\n",
    "    pdf.output(file)\n",
    "    print(f\"PDF saved successfully as {file}\")\n",
    "\n",
    "\n",
    "textPdf(final3, \"New.pdf\")\n"
   ]
  },
  {
   "cell_type": "code",
   "execution_count": null,
   "id": "e6d2e2aa",
   "metadata": {},
   "outputs": [],
   "source": []
  },
  {
   "cell_type": "code",
   "execution_count": null,
   "id": "bb5e5943",
   "metadata": {},
   "outputs": [],
   "source": []
  }
 ],
 "metadata": {
  "kernelspec": {
   "display_name": "myenv",
   "language": "python",
   "name": "python3"
  },
  "language_info": {
   "codemirror_mode": {
    "name": "ipython",
    "version": 3
   },
   "file_extension": ".py",
   "mimetype": "text/x-python",
   "name": "python",
   "nbconvert_exporter": "python",
   "pygments_lexer": "ipython3",
   "version": "3.10.0"
  }
 },
 "nbformat": 4,
 "nbformat_minor": 5
}
